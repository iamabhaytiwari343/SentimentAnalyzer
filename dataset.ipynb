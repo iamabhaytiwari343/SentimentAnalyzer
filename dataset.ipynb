{
 "cells": [
  {
   "cell_type": "code",
   "execution_count": 1,
   "metadata": {},
   "outputs": [],
   "source": [
    "import pandas as pd\n"
   ]
  },
  {
   "cell_type": "code",
   "execution_count": 2,
   "metadata": {},
   "outputs": [],
   "source": [
    "df=pd.read_csv('IMDB-Dataset.csv/IMDB-Dataset.csv')"
   ]
  },
  {
   "cell_type": "code",
   "execution_count": 3,
   "metadata": {},
   "outputs": [
    {
     "data": {
      "text/html": [
       "<div>\n",
       "<style scoped>\n",
       "    .dataframe tbody tr th:only-of-type {\n",
       "        vertical-align: middle;\n",
       "    }\n",
       "\n",
       "    .dataframe tbody tr th {\n",
       "        vertical-align: top;\n",
       "    }\n",
       "\n",
       "    .dataframe thead th {\n",
       "        text-align: right;\n",
       "    }\n",
       "</style>\n",
       "<table border=\"1\" class=\"dataframe\">\n",
       "  <thead>\n",
       "    <tr style=\"text-align: right;\">\n",
       "      <th></th>\n",
       "      <th>Ratings</th>\n",
       "      <th>Reviews</th>\n",
       "      <th>Movies</th>\n",
       "      <th>Resenhas</th>\n",
       "    </tr>\n",
       "  </thead>\n",
       "  <tbody>\n",
       "    <tr>\n",
       "      <th>0</th>\n",
       "      <td>1.0</td>\n",
       "      <td>*Disclaimer: I only watched this movie as a co...</td>\n",
       "      <td>Disaster Movie</td>\n",
       "      <td>* Isenção de responsabilidade: eu só assisti e...</td>\n",
       "    </tr>\n",
       "    <tr>\n",
       "      <th>1</th>\n",
       "      <td>1.0</td>\n",
       "      <td>I am writing this in hopes that this gets put ...</td>\n",
       "      <td>Disaster Movie</td>\n",
       "      <td>Estou escrevendo isso na esperança de que isso...</td>\n",
       "    </tr>\n",
       "    <tr>\n",
       "      <th>2</th>\n",
       "      <td>1.0</td>\n",
       "      <td>Really, I could write a scathing review of thi...</td>\n",
       "      <td>Disaster Movie</td>\n",
       "      <td>Realmente, eu poderia escrever uma crítica con...</td>\n",
       "    </tr>\n",
       "    <tr>\n",
       "      <th>3</th>\n",
       "      <td>1.0</td>\n",
       "      <td>If you saw the other previous spoof movies by ...</td>\n",
       "      <td>Disaster Movie</td>\n",
       "      <td>Se você viu os outros filmes falsificados ante...</td>\n",
       "    </tr>\n",
       "    <tr>\n",
       "      <th>4</th>\n",
       "      <td>1.0</td>\n",
       "      <td>This movie I saw a day early for free and I st...</td>\n",
       "      <td>Disaster Movie</td>\n",
       "      <td>Este filme eu vi um dia cedo de graça e ainda ...</td>\n",
       "    </tr>\n",
       "    <tr>\n",
       "      <th>...</th>\n",
       "      <td>...</td>\n",
       "      <td>...</td>\n",
       "      <td>...</td>\n",
       "      <td>...</td>\n",
       "    </tr>\n",
       "    <tr>\n",
       "      <th>149995</th>\n",
       "      <td>10.0</td>\n",
       "      <td>GoldenEye (1995) is my number 1 personal favor...</td>\n",
       "      <td>GoldenEye</td>\n",
       "      <td>GoldenEye (1995) é o meu filme favorito pessoa...</td>\n",
       "    </tr>\n",
       "    <tr>\n",
       "      <th>149996</th>\n",
       "      <td>10.0</td>\n",
       "      <td>*** 1/2Starring: Pierce Brosnan, Izabella Scor...</td>\n",
       "      <td>GoldenEye</td>\n",
       "      <td>Estrelando: Pierce Brosnan, Izabella Scorupco,...</td>\n",
       "    </tr>\n",
       "    <tr>\n",
       "      <th>149997</th>\n",
       "      <td>10.0</td>\n",
       "      <td>I've given this film a 10, not just because I ...</td>\n",
       "      <td>GoldenEye</td>\n",
       "      <td>Eu dei 10 a este filme, não apenas porque eu g...</td>\n",
       "    </tr>\n",
       "    <tr>\n",
       "      <th>149998</th>\n",
       "      <td>10.0</td>\n",
       "      <td>I absolutely adore this movie. What a comeback...</td>\n",
       "      <td>GoldenEye</td>\n",
       "      <td>Eu absolutamente adoro este filme. Que retorno...</td>\n",
       "    </tr>\n",
       "    <tr>\n",
       "      <th>149999</th>\n",
       "      <td>10.0</td>\n",
       "      <td>I rented Boogie Nights last week and I could t...</td>\n",
       "      <td>Boogie Nights</td>\n",
       "      <td>Aluguei o Boogie Nights na semana passada e pu...</td>\n",
       "    </tr>\n",
       "  </tbody>\n",
       "</table>\n",
       "<p>150000 rows × 4 columns</p>\n",
       "</div>"
      ],
      "text/plain": [
       "        Ratings                                            Reviews  \\\n",
       "0           1.0  *Disclaimer: I only watched this movie as a co...   \n",
       "1           1.0  I am writing this in hopes that this gets put ...   \n",
       "2           1.0  Really, I could write a scathing review of thi...   \n",
       "3           1.0  If you saw the other previous spoof movies by ...   \n",
       "4           1.0  This movie I saw a day early for free and I st...   \n",
       "...         ...                                                ...   \n",
       "149995     10.0  GoldenEye (1995) is my number 1 personal favor...   \n",
       "149996     10.0  *** 1/2Starring: Pierce Brosnan, Izabella Scor...   \n",
       "149997     10.0  I've given this film a 10, not just because I ...   \n",
       "149998     10.0  I absolutely adore this movie. What a comeback...   \n",
       "149999     10.0  I rented Boogie Nights last week and I could t...   \n",
       "\n",
       "                Movies                                           Resenhas  \n",
       "0       Disaster Movie  * Isenção de responsabilidade: eu só assisti e...  \n",
       "1       Disaster Movie  Estou escrevendo isso na esperança de que isso...  \n",
       "2       Disaster Movie  Realmente, eu poderia escrever uma crítica con...  \n",
       "3       Disaster Movie  Se você viu os outros filmes falsificados ante...  \n",
       "4       Disaster Movie  Este filme eu vi um dia cedo de graça e ainda ...  \n",
       "...                ...                                                ...  \n",
       "149995       GoldenEye  GoldenEye (1995) é o meu filme favorito pessoa...  \n",
       "149996       GoldenEye  Estrelando: Pierce Brosnan, Izabella Scorupco,...  \n",
       "149997       GoldenEye  Eu dei 10 a este filme, não apenas porque eu g...  \n",
       "149998       GoldenEye  Eu absolutamente adoro este filme. Que retorno...  \n",
       "149999   Boogie Nights  Aluguei o Boogie Nights na semana passada e pu...  \n",
       "\n",
       "[150000 rows x 4 columns]"
      ]
     },
     "execution_count": 3,
     "metadata": {},
     "output_type": "execute_result"
    }
   ],
   "source": [
    "df"
   ]
  },
  {
   "cell_type": "code",
   "execution_count": 4,
   "metadata": {},
   "outputs": [
    {
     "data": {
      "text/plain": [
       "Index(['Ratings', 'Reviews', 'Movies', 'Resenhas'], dtype='object')"
      ]
     },
     "execution_count": 4,
     "metadata": {},
     "output_type": "execute_result"
    }
   ],
   "source": [
    "df.columns"
   ]
  }
 ],
 "metadata": {
  "kernelspec": {
   "display_name": "Python 3",
   "language": "python",
   "name": "python3"
  },
  "language_info": {
   "codemirror_mode": {
    "name": "ipython",
    "version": 3
   },
   "file_extension": ".py",
   "mimetype": "text/x-python",
   "name": "python",
   "nbconvert_exporter": "python",
   "pygments_lexer": "ipython3",
   "version": "3.11.2"
  },
  "orig_nbformat": 4
 },
 "nbformat": 4,
 "nbformat_minor": 2
}
